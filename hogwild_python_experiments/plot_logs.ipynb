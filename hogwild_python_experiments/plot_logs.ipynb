{
 "cells": [
  {
   "cell_type": "code",
   "execution_count": 1,
   "metadata": {},
   "outputs": [],
   "source": [
    "import pandas as pd\n",
    "import json\n",
    "import os\n",
    "import matplotlib.pyplot as plt\n",
    "import numpy as np"
   ]
  },
  {
   "cell_type": "code",
   "execution_count": 2,
   "metadata": {},
   "outputs": [],
   "source": [
    "import numpy as np"
   ]
  },
  {
   "cell_type": "code",
   "execution_count": 3,
   "metadata": {},
   "outputs": [],
   "source": [
    "os.chdir('logs_local')"
   ]
  },
  {
   "cell_type": "code",
   "execution_count": 4,
   "metadata": {},
   "outputs": [],
   "source": [
    "df = pd.DataFrame(columns=['Run_time','Run_mode','Epochs','Nb_Worker','Batch_Size','Val_loss_time','Val_loss_value', 'Train_loss'])"
   ]
  },
  {
   "cell_type": "code",
   "execution_count": 5,
   "metadata": {},
   "outputs": [
    {
     "data": {
      "text/html": [
       "<div>\n",
       "<style scoped>\n",
       "    .dataframe tbody tr th:only-of-type {\n",
       "        vertical-align: middle;\n",
       "    }\n",
       "\n",
       "    .dataframe tbody tr th {\n",
       "        vertical-align: top;\n",
       "    }\n",
       "\n",
       "    .dataframe thead th {\n",
       "        text-align: right;\n",
       "    }\n",
       "</style>\n",
       "<table border=\"1\" class=\"dataframe\">\n",
       "  <thead>\n",
       "    <tr style=\"text-align: right;\">\n",
       "      <th></th>\n",
       "      <th>Run_time</th>\n",
       "      <th>Run_mode</th>\n",
       "      <th>Epochs</th>\n",
       "      <th>Nb_Worker</th>\n",
       "      <th>Batch_Size</th>\n",
       "      <th>Val_loss_time</th>\n",
       "      <th>Val_loss_value</th>\n",
       "      <th>Train_loss</th>\n",
       "    </tr>\n",
       "  </thead>\n",
       "  <tbody>\n",
       "  </tbody>\n",
       "</table>\n",
       "</div>"
      ],
      "text/plain": [
       "Empty DataFrame\n",
       "Columns: [Run_time, Run_mode, Epochs, Nb_Worker, Batch_Size, Val_loss_time, Val_loss_value, Train_loss]\n",
       "Index: []"
      ]
     },
     "execution_count": 5,
     "metadata": {},
     "output_type": "execute_result"
    }
   ],
   "source": [
    "df.head()"
   ]
  },
  {
   "cell_type": "code",
   "execution_count": 6,
   "metadata": {},
   "outputs": [],
   "source": [
    "def parse_dict(x):\n",
    "    times = []\n",
    "    losses = []\n",
    "    for element in x['losses_val']:\n",
    "        for k,v in element.items():\n",
    "            if k=='time':\n",
    "                times.append(pd.to_datetime(v)) \n",
    "            else:\n",
    "                losses.append(v) \n",
    "    losses = np.array(losses)\n",
    "    times = np.array(times) \n",
    "    \n",
    "    times = (times - times[0])\n",
    "    times = [x.total_seconds() for x in times]\n",
    "    return np.array(times), np.array(losses)\n"
   ]
  },
  {
   "cell_type": "code",
   "execution_count": 7,
   "metadata": {},
   "outputs": [],
   "source": [
    "for file in os.listdir():\n",
    "    if file.startswith(\"log\"):\n",
    "        with open(file) as f:\n",
    "            x = json.load(f)[0]\n",
    "            #print(x.keys())\n",
    "            \n",
    "            times,losses = parse_dict(x)\n",
    "            dict_x = {'Run_time':pd.to_datetime(x['end_time'])-pd.to_datetime(x['start_time']),\n",
    "                      'Run_mode':x['running_mode'],\n",
    "                      'Epochs':int(x['sync_epochs']),\n",
    "                      'Nb_Worker': int(x['n_workers']),\n",
    "                      'Batch_Size':int(x['batch']),\n",
    "                      'Val_loss_time':times,\n",
    "                      'Val_loss_value':losses,\n",
    "                      'Train_loss':x['losses_train']}\n",
    "            df_x  = pd.DataFrame([dict_x], columns=dict_x.keys())\n",
    "            df  = pd.concat([df_x, df], axis =0, ignore_index=True)"
   ]
  },
  {
   "cell_type": "code",
   "execution_count": 9,
   "metadata": {},
   "outputs": [
    {
     "data": {
      "text/html": [
       "<div>\n",
       "<style scoped>\n",
       "    .dataframe tbody tr th:only-of-type {\n",
       "        vertical-align: middle;\n",
       "    }\n",
       "\n",
       "    .dataframe tbody tr th {\n",
       "        vertical-align: top;\n",
       "    }\n",
       "\n",
       "    .dataframe thead th {\n",
       "        text-align: right;\n",
       "    }\n",
       "</style>\n",
       "<table border=\"1\" class=\"dataframe\">\n",
       "  <thead>\n",
       "    <tr style=\"text-align: right;\">\n",
       "      <th></th>\n",
       "      <th>Run_time</th>\n",
       "      <th>Run_mode</th>\n",
       "      <th>Epochs</th>\n",
       "      <th>Nb_Worker</th>\n",
       "      <th>Batch_Size</th>\n",
       "      <th>Val_loss_time</th>\n",
       "      <th>Val_loss_value</th>\n",
       "      <th>Train_loss</th>\n",
       "    </tr>\n",
       "  </thead>\n",
       "  <tbody>\n",
       "    <tr>\n",
       "      <th>0</th>\n",
       "      <td>00:01:32.477808</td>\n",
       "      <td>asynchronous</td>\n",
       "      <td>0</td>\n",
       "      <td>2</td>\n",
       "      <td>256</td>\n",
       "      <td>[0.0, 0.03866, 0.119104, 0.19528, 0.238585, 0....</td>\n",
       "      <td>[0.9813737336094728, 0.9882126417248985, 0.963...</td>\n",
       "      <td>[{'worker_idx': 1, 'loss_train': 0.99516248703...</td>\n",
       "    </tr>\n",
       "    <tr>\n",
       "      <th>1</th>\n",
       "      <td>00:09:31.591511</td>\n",
       "      <td>asynchronous</td>\n",
       "      <td>0</td>\n",
       "      <td>5</td>\n",
       "      <td>256</td>\n",
       "      <td>[0.0, 0.039498, 0.435455, 0.521094, 0.825922, ...</td>\n",
       "      <td>[0.9985493194249929, 0.9964105353623808, 0.999...</td>\n",
       "      <td>[{'worker_idx': 2, 'loss_train': 1.00032567977...</td>\n",
       "    </tr>\n",
       "    <tr>\n",
       "      <th>2</th>\n",
       "      <td>00:06:05.374150</td>\n",
       "      <td>asynchronous</td>\n",
       "      <td>0</td>\n",
       "      <td>1</td>\n",
       "      <td>256</td>\n",
       "      <td>[0.0, 0.155883, 0.290516, 0.4099, 0.529042, 0....</td>\n",
       "      <td>[0.9811500387288213, 0.9736281534933382, 0.927...</td>\n",
       "      <td>[{'worker_idx': 0, 'loss_train': 0.99127697944...</td>\n",
       "    </tr>\n",
       "    <tr>\n",
       "      <th>3</th>\n",
       "      <td>00:14:48.126343</td>\n",
       "      <td>asynchronous</td>\n",
       "      <td>0</td>\n",
       "      <td>10</td>\n",
       "      <td>256</td>\n",
       "      <td>[0.0, 0.695564, 0.798025, 1.310374, 1.407675, ...</td>\n",
       "      <td>[0.9963057041462977, 0.9940285148076634, 0.992...</td>\n",
       "      <td>[{'worker_idx': 0, 'loss_train': 0.99753314256...</td>\n",
       "    </tr>\n",
       "  </tbody>\n",
       "</table>\n",
       "</div>"
      ],
      "text/plain": [
       "         Run_time      Run_mode Epochs Nb_Worker Batch_Size  \\\n",
       "0 00:01:32.477808  asynchronous      0         2        256   \n",
       "1 00:09:31.591511  asynchronous      0         5        256   \n",
       "2 00:06:05.374150  asynchronous      0         1        256   \n",
       "3 00:14:48.126343  asynchronous      0        10        256   \n",
       "\n",
       "                                       Val_loss_time  \\\n",
       "0  [0.0, 0.03866, 0.119104, 0.19528, 0.238585, 0....   \n",
       "1  [0.0, 0.039498, 0.435455, 0.521094, 0.825922, ...   \n",
       "2  [0.0, 0.155883, 0.290516, 0.4099, 0.529042, 0....   \n",
       "3  [0.0, 0.695564, 0.798025, 1.310374, 1.407675, ...   \n",
       "\n",
       "                                      Val_loss_value  \\\n",
       "0  [0.9813737336094728, 0.9882126417248985, 0.963...   \n",
       "1  [0.9985493194249929, 0.9964105353623808, 0.999...   \n",
       "2  [0.9811500387288213, 0.9736281534933382, 0.927...   \n",
       "3  [0.9963057041462977, 0.9940285148076634, 0.992...   \n",
       "\n",
       "                                          Train_loss  \n",
       "0  [{'worker_idx': 1, 'loss_train': 0.99516248703...  \n",
       "1  [{'worker_idx': 2, 'loss_train': 1.00032567977...  \n",
       "2  [{'worker_idx': 0, 'loss_train': 0.99127697944...  \n",
       "3  [{'worker_idx': 0, 'loss_train': 0.99753314256...  "
      ]
     },
     "execution_count": 9,
     "metadata": {},
     "output_type": "execute_result"
    }
   ],
   "source": [
    "df.head()"
   ]
  },
  {
   "cell_type": "code",
   "execution_count": 15,
   "metadata": {},
   "outputs": [],
   "source": [
    "def plot_local(df):\n",
    "    data = df\n",
    "\n",
    "    different_workers = data['Nb_Worker'].unique()\n",
    "    different_workers = np.sort(different_workers)\n",
    "\n",
    "    for i in range(len(different_workers)):\n",
    "        data_single = data[data['Nb_Worker']==different_workers[i]]\n",
    "        plt.plot(np.array(data_single['Val_loss_time'])[0],np.array(data_single['Val_loss_value'])[0],label=str(different_workers[i]))\n",
    "        \n",
    "    #plt.title(f\"Validation loss vs Time for a Batch Size = {batch} for {mode} mode\")\n",
    "    plt.xlabel(\"Time\")\n",
    "    plt.ylabel(\"Validation loss\")\n",
    "    plt.legend(title='Workers')\n",
    "    plt.show()"
   ]
  },
  {
   "cell_type": "code",
   "execution_count": 17,
   "metadata": {},
   "outputs": [
    {
     "data": {
      "image/png": "[encoded data removed]",
      "text/plain": [
       "<Figure size 1008x576 with 1 Axes>"
      ]
     },
     "metadata": {
      "needs_background": "light"
     },
     "output_type": "display_data"
    }
   ],
   "source": [
    "plt.figure(figsize=(14,8))\n",
    "plot_local(df)"
   ]
  },
  {
   "cell_type": "code",
   "execution_count": 10,
   "metadata": {},
   "outputs": [],
   "source": [
    "def plot_mode_val_vs_time_worker(df,mode,batch):\n",
    "    data = df[(df['Run_mode']==mode) & (df['Batch_Size']==batch)]\n",
    "\n",
    "    different_workers = data['Nb_Worker'].unique()\n",
    "    different_workers = np.sort(different_workers)\n",
    "\n",
    "    for i in range(len(different_workers)):\n",
    "        data_single = data[data['Nb_Worker']==different_workers[i]]\n",
    "        plt.plot(np.array(data_single['Val_loss_time'])[0],np.array(data_single['Val_loss_value'])[0],label=str(different_workers[i]))\n",
    "        \n",
    "    plt.title(f\"Validation loss vs Time for a Batch Size = {batch} for {mode} mode\")\n",
    "    plt.xlabel(\"Time\")\n",
    "    plt.ylabel(\"Validation loss\")\n",
    "    plt.legend(title='Workers')\n",
    "    plt.show()"
   ]
  },
  {
   "cell_type": "code",
   "execution_count": null,
   "metadata": {},
   "outputs": [],
   "source": []
  },
  {
   "cell_type": "code",
   "execution_count": null,
   "metadata": {},
   "outputs": [],
   "source": [
    "def plot_mode_batch_vs_time_worker(df,mode):\n",
    "    data = df[(df['Run_mode']==mode)]\n",
    "    \n",
    "    different_workers = data['Nb_Worker'].unique()\n",
    "    different_workers = np.sort(different_workers)\n",
    "\n",
    "    for i in range(len(different_workers)):\n",
    "        data_single = data[data['Nb_Worker']==different_workers[i]]\n",
    "        plt.plot(data_single['Run_time'],data_single['Batch_Size'],label=str(different_workers[i]))\n",
    "        \n",
    "    plt.xlabel(\"Batch Size\")\n",
    "    plt.ylabel(\"Total Running time\")\n",
    "    plt.legend(title='Workers')\n",
    "    plt.show()"
   ]
  },
  {
   "cell_type": "code",
   "execution_count": null,
   "metadata": {},
   "outputs": [],
   "source": [
    "def plot_mode_val_vs_time_batch(df,mode,worker):\n",
    "    data = df[(df['Run_mode']==mode) & (df['Nb_Worker']==worker)]\n",
    "    \n",
    "    different_batch = data['Batch_Size'].unique()\n",
    "    different_batch = np.sort(different_batch)\n",
    "    \n",
    "    for i in range(len(different_batch)):\n",
    "        data_single = data[data['Batch_Size']==different_batch[i]]\n",
    "        plt.plot(np.array(data_single['Val_loss_time'])[0],np.array(data_single['Val_loss_value'])[0],label=str(different_batch[i]))\n",
    "        \n",
    "    plt.title(f\"Validation loss vs Time with {worker} workers for {mode} mode\")\n",
    "    plt.xlabel(\"Time\")\n",
    "    plt.ylabel(\"Validation loss\")\n",
    "    plt.legend(title='Batch Sizes')"
   ]
  },
  {
   "cell_type": "code",
   "execution_count": null,
   "metadata": {},
   "outputs": [],
   "source": [
    "plt.figure(figsize=(14,8)) \n",
    "plt.subplot(1,2,1)\n",
    "plot_mode_val_vs_time_worker(df,\"asynchronous\",128)\n",
    "plt.subplot(1,2,2)\n",
    "plot_mode_val_vs_time_worker(df,\"synchronous\",128)"
   ]
  },
  {
   "cell_type": "code",
   "execution_count": null,
   "metadata": {},
   "outputs": [],
   "source": [
    "plt.figure(figsize=(15,8)) \n",
    "plt.subplot(1,2,1)\n",
    "plot_mode_val_vs_time_batch(df,\"asynchronous\",1)\n",
    "plt.subplot(1,2,2)\n",
    "plot_mode_val_vs_time_batch(df,\"synchronous\",1)"
   ]
  },
  {
   "cell_type": "code",
   "execution_count": null,
   "metadata": {},
   "outputs": [],
   "source": [
    "plt.figure(figsize=(15,8))\n",
    "plt.subplot(1,2,1)\n",
    "plot_mode_val_vs_time_batch(df,\"asynchronous\",2)\n",
    "plt.subplot(1,2,2)\n",
    "plot_mode_val_vs_time_batch(df,\"synchronous\",2)"
   ]
  },
  {
   "cell_type": "code",
   "execution_count": null,
   "metadata": {},
   "outputs": [],
   "source": [
    "plt.figure(figsize=(15,8)) \n",
    "plt.subplot(1,2,1)\n",
    "plot_mode_val_vs_time_batch(df,\"asynchronous\",5)\n",
    "plt.subplot(1,2,2)\n",
    "plot_mode_val_vs_time_batch(df,\"synchronous\",5)"
   ]
  },
  {
   "cell_type": "code",
   "execution_count": null,
   "metadata": {},
   "outputs": [],
   "source": [
    "plt.figure(figsize=(15,8)) \n",
    "plt.subplot(1,2,1)\n",
    "plot_mode_val_vs_time_batch(df,\"asynchronous\",10)\n",
    "plt.subplot(1,2,2)\n",
    "plot_mode_val_vs_time_batch(df,\"synchronous\",10)"
   ]
  },
  {
   "cell_type": "code",
   "execution_count": null,
   "metadata": {},
   "outputs": [],
   "source": [
    "plt.figure(figsize=(15,8)) \n",
    "plt.subplot(1,2,1)\n",
    "plot_mode_val_vs_time_batch(df,\"asynchronous\",20)\n",
    "plt.subplot(1,2,2)\n",
    "plot_mode_val_vs_time_batch(df,\"synchronous\",20)"
   ]
  }
 ],
 "metadata": {
  "kernelspec": {
   "display_name": "Python 3",
   "language": "python",
   "name": "python3"
  },
  "language_info": {
   "codemirror_mode": {
    "name": "ipython",
    "version": 3
   },
   "file_extension": ".py",
   "mimetype": "text/x-python",
   "name": "python",
   "nbconvert_exporter": "python",
   "pygments_lexer": "ipython3",
   "version": "3.6.7"
  }
 },
 "nbformat": 4,
 "nbformat_minor": 2
}
