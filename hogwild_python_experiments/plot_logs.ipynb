{
 "cells": [
  {
   "cell_type": "code",
   "execution_count": 1,
   "metadata": {},
   "outputs": [
    {
     "ename": "ImportError",
     "evalue": "Missing required dependencies ['numpy']",
     "output_type": "error",
     "traceback": [
      "\u001b[0;31m---------------------------------------------------------------------------\u001b[0m",
      "\u001b[0;31mImportError\u001b[0m                               Traceback (most recent call last)",
      "\u001b[0;32m<ipython-input-1-f170246013d7>\u001b[0m in \u001b[0;36m<module>\u001b[0;34m\u001b[0m\n\u001b[0;32m----> 1\u001b[0;31m \u001b[0;32mimport\u001b[0m \u001b[0mpandas\u001b[0m \u001b[0;32mas\u001b[0m \u001b[0mpd\u001b[0m\u001b[0;34m\u001b[0m\u001b[0;34m\u001b[0m\u001b[0m\n\u001b[0m\u001b[1;32m      2\u001b[0m \u001b[0;32mimport\u001b[0m \u001b[0mjson\u001b[0m\u001b[0;34m\u001b[0m\u001b[0;34m\u001b[0m\u001b[0m\n\u001b[1;32m      3\u001b[0m \u001b[0;32mimport\u001b[0m \u001b[0mos\u001b[0m\u001b[0;34m\u001b[0m\u001b[0;34m\u001b[0m\u001b[0m\n\u001b[1;32m      4\u001b[0m \u001b[0;32mimport\u001b[0m \u001b[0mmatplotlib\u001b[0m\u001b[0;34m.\u001b[0m\u001b[0mpyplot\u001b[0m \u001b[0;32mas\u001b[0m \u001b[0mplt\u001b[0m\u001b[0;34m\u001b[0m\u001b[0;34m\u001b[0m\u001b[0m\n\u001b[1;32m      5\u001b[0m \u001b[0;32mimport\u001b[0m \u001b[0mnumpy\u001b[0m \u001b[0;32mas\u001b[0m \u001b[0mnp\u001b[0m\u001b[0;34m\u001b[0m\u001b[0;34m\u001b[0m\u001b[0m\n",
      "\u001b[0;32m~/.local/lib/python3.6/site-packages/pandas/__init__.py\u001b[0m in \u001b[0;36m<module>\u001b[0;34m\u001b[0m\n\u001b[1;32m     17\u001b[0m \u001b[0;32mif\u001b[0m \u001b[0mmissing_dependencies\u001b[0m\u001b[0;34m:\u001b[0m\u001b[0;34m\u001b[0m\u001b[0;34m\u001b[0m\u001b[0m\n\u001b[1;32m     18\u001b[0m     raise ImportError(\n\u001b[0;32m---> 19\u001b[0;31m         \"Missing required dependencies {0}\".format(missing_dependencies))\n\u001b[0m\u001b[1;32m     20\u001b[0m \u001b[0;32mdel\u001b[0m \u001b[0mhard_dependencies\u001b[0m\u001b[0;34m,\u001b[0m \u001b[0mdependency\u001b[0m\u001b[0;34m,\u001b[0m \u001b[0mmissing_dependencies\u001b[0m\u001b[0;34m\u001b[0m\u001b[0;34m\u001b[0m\u001b[0m\n\u001b[1;32m     21\u001b[0m \u001b[0;34m\u001b[0m\u001b[0m\n",
      "\u001b[0;31mImportError\u001b[0m: Missing required dependencies ['numpy']"
     ]
    }
   ],
   "source": [
    "import pandas as pd\n",
    "import json\n",
    "import os\n",
    "import matplotlib.pyplot as plt\n",
    "import numpy as np"
   ]
  },
  {
   "cell_type": "code",
   "execution_count": 5,
   "metadata": {},
   "outputs": [
    {
     "ename": "ImportError",
     "evalue": "Something is wrong with the numpy installation. While importing we detected an older version of numpy in ['/home/damian/.local/lib/python3.6/site-packages/numpy']. One method of fixing this is to repeatedly uninstall numpy until none is found, then reinstall this version.",
     "output_type": "error",
     "traceback": [
      "\u001b[0;31m---------------------------------------------------------------------------\u001b[0m",
      "\u001b[0;31mImportError\u001b[0m                               Traceback (most recent call last)",
      "\u001b[0;32m<ipython-input-5-0aa0b027fcb6>\u001b[0m in \u001b[0;36m<module>\u001b[0;34m\u001b[0m\n\u001b[0;32m----> 1\u001b[0;31m \u001b[0;32mimport\u001b[0m \u001b[0mnumpy\u001b[0m \u001b[0;32mas\u001b[0m \u001b[0mnp\u001b[0m\u001b[0;34m\u001b[0m\u001b[0;34m\u001b[0m\u001b[0m\n\u001b[0m",
      "\u001b[0;32m~/.local/lib/python3.6/site-packages/numpy/__init__.py\u001b[0m in \u001b[0;36m<module>\u001b[0;34m\u001b[0m\n\u001b[1;32m    140\u001b[0m     \u001b[0;32mfrom\u001b[0m \u001b[0;34m.\u001b[0m \u001b[0;32mimport\u001b[0m \u001b[0m_distributor_init\u001b[0m\u001b[0;34m\u001b[0m\u001b[0;34m\u001b[0m\u001b[0m\n\u001b[1;32m    141\u001b[0m \u001b[0;34m\u001b[0m\u001b[0m\n\u001b[0;32m--> 142\u001b[0;31m     \u001b[0;32mfrom\u001b[0m \u001b[0;34m.\u001b[0m \u001b[0;32mimport\u001b[0m \u001b[0mcore\u001b[0m\u001b[0;34m\u001b[0m\u001b[0;34m\u001b[0m\u001b[0m\n\u001b[0m\u001b[1;32m    143\u001b[0m     \u001b[0;32mfrom\u001b[0m \u001b[0;34m.\u001b[0m\u001b[0mcore\u001b[0m \u001b[0;32mimport\u001b[0m \u001b[0;34m*\u001b[0m\u001b[0;34m\u001b[0m\u001b[0;34m\u001b[0m\u001b[0m\n\u001b[1;32m    144\u001b[0m     \u001b[0;32mfrom\u001b[0m \u001b[0;34m.\u001b[0m \u001b[0;32mimport\u001b[0m \u001b[0mcompat\u001b[0m\u001b[0;34m\u001b[0m\u001b[0;34m\u001b[0m\u001b[0m\n",
      "\u001b[0;32m~/.local/lib/python3.6/site-packages/numpy/core/__init__.py\u001b[0m in \u001b[0;36m<module>\u001b[0;34m\u001b[0m\n\u001b[1;32m     89\u001b[0m         \u001b[0;34m\"numpy in {}. One method of fixing this is to repeatedly uninstall \"\u001b[0m\u001b[0;34m\u001b[0m\u001b[0;34m\u001b[0m\u001b[0m\n\u001b[1;32m     90\u001b[0m         \"numpy until none is found, then reinstall this version.\")\n\u001b[0;32m---> 91\u001b[0;31m     \u001b[0;32mraise\u001b[0m \u001b[0mImportError\u001b[0m\u001b[0;34m(\u001b[0m\u001b[0mmsg\u001b[0m\u001b[0;34m.\u001b[0m\u001b[0mformat\u001b[0m\u001b[0;34m(\u001b[0m\u001b[0mpath\u001b[0m\u001b[0;34m)\u001b[0m\u001b[0;34m)\u001b[0m\u001b[0;34m\u001b[0m\u001b[0;34m\u001b[0m\u001b[0m\n\u001b[0m\u001b[1;32m     92\u001b[0m \u001b[0;34m\u001b[0m\u001b[0m\n\u001b[1;32m     93\u001b[0m \u001b[0;32mfrom\u001b[0m \u001b[0;34m.\u001b[0m \u001b[0;32mimport\u001b[0m \u001b[0mnumerictypes\u001b[0m \u001b[0;32mas\u001b[0m \u001b[0mnt\u001b[0m\u001b[0;34m\u001b[0m\u001b[0;34m\u001b[0m\u001b[0m\n",
      "\u001b[0;31mImportError\u001b[0m: Something is wrong with the numpy installation. While importing we detected an older version of numpy in ['/home/damian/.local/lib/python3.6/site-packages/numpy']. One method of fixing this is to repeatedly uninstall numpy until none is found, then reinstall this version."
     ]
    }
   ],
   "source": [
    "import numpy as np"
   ]
  },
  {
   "cell_type": "code",
   "execution_count": null,
   "metadata": {},
   "outputs": [],
   "source": [
    "os.chdir('logs')"
   ]
  },
  {
   "cell_type": "code",
   "execution_count": null,
   "metadata": {},
   "outputs": [],
   "source": [
    "df = pd.DataFrame(columns=['Run_time','Run_mode','Epochs','Nb_Worker','Batch_Size','Val_loss_time','Val_loss_value', 'Train_loss'])"
   ]
  },
  {
   "cell_type": "code",
   "execution_count": null,
   "metadata": {},
   "outputs": [],
   "source": [
    "df.head()"
   ]
  },
  {
   "cell_type": "code",
   "execution_count": null,
   "metadata": {},
   "outputs": [],
   "source": [
    "def parse_dict(x):\n",
    "    times = []\n",
    "    losses = []\n",
    "    for element in x['losses_val']:\n",
    "        for k,v in element.items():\n",
    "            if k=='time':\n",
    "                times.append(pd.to_datetime(v)) \n",
    "            else:\n",
    "                losses.append(v) \n",
    "    losses = np.array(losses)\n",
    "    times = np.array(times) \n",
    "    \n",
    "    times = (times - times[0])\n",
    "    times = [x.total_seconds() for x in times]\n",
    "    return np.array(times), np.array(losses)\n"
   ]
  },
  {
   "cell_type": "code",
   "execution_count": null,
   "metadata": {},
   "outputs": [],
   "source": [
    "for file in os.listdir():\n",
    "    if file.startswith(\"log\"):\n",
    "        with open(file) as f:\n",
    "            x = json.load(f)[0]\n",
    "            #print(x.keys())\n",
    "            \n",
    "            times,losses = parse_dict(x)\n",
    "            dict_x = {'Run_time':pd.to_datetime(x['end_time'])-pd.to_datetime(x['start_time']),\n",
    "                      'Run_mode':x['running_mode'],\n",
    "                      'Epochs':int(x['sync_epochs']),\n",
    "                      'Nb_Worker': int(x['n_workers']),\n",
    "                      'Batch_Size':int(x['batch']),\n",
    "                      'Val_loss_time':times,\n",
    "                      'Val_loss_value':losses,\n",
    "                      'Train_loss':x['losses_train']}\n",
    "            df_x  = pd.DataFrame([dict_x], columns=dict_x.keys())\n",
    "            df  = pd.concat([df_x, df], axis =0, ignore_index=True)"
   ]
  },
  {
   "cell_type": "code",
   "execution_count": null,
   "metadata": {},
   "outputs": [],
   "source": [
    "df.sample(5)"
   ]
  },
  {
   "cell_type": "code",
   "execution_count": null,
   "metadata": {},
   "outputs": [],
   "source": [
    "def plot_mode_val_vs_time_worker(df,mode,batch):\n",
    "    data = df[(df['Run_mode']==mode) & (df['Batch_Size']==batch)]\n",
    "\n",
    "    different_workers = data['Nb_Worker'].unique()\n",
    "    different_workers = np.sort(different_workers)\n",
    "\n",
    "    for i in range(len(different_workers)):\n",
    "        data_single = data[data['Nb_Worker']==different_workers[i]]\n",
    "        plt.plot(np.array(data_single['Val_loss_time'])[0],np.array(data_single['Val_loss_value'])[0],label=str(different_workers[i]))\n",
    "        \n",
    "    plt.title(f\"Validation loss vs Time for a Batch Size = {batch} for {mode} mode\")\n",
    "    plt.xlabel(\"Time\")\n",
    "    plt.ylabel(\"Validation loss\")\n",
    "    plt.legend(title='Workers')\n",
    "    plt.show()"
   ]
  },
  {
   "cell_type": "code",
   "execution_count": null,
   "metadata": {},
   "outputs": [],
   "source": [
    "def plot_mode_batch_vs_time_worker(df,mode):\n",
    "    data = df[(df['Run_mode']==mode)]\n",
    "    \n",
    "    different_workers = data['Nb_Worker'].unique()\n",
    "    different_workers = np.sort(different_workers)\n",
    "\n",
    "    for i in range(len(different_workers)):\n",
    "        data_single = data[data['Nb_Worker']==different_workers[i]]\n",
    "        plt.plot(data_single['Run_time'],data_single['Batch_Size'],label=str(different_workers[i]))\n",
    "        \n",
    "    plt.xlabel(\"Batch Size\")\n",
    "    plt.ylabel(\"Total Running time\")\n",
    "    plt.legend(title='Workers')\n",
    "    plt.show()"
   ]
  },
  {
   "cell_type": "code",
   "execution_count": null,
   "metadata": {},
   "outputs": [],
   "source": [
    "def plot_mode_val_vs_time_batch(df,mode,worker):\n",
    "    data = df[(df['Run_mode']==mode) & (df['Nb_Worker']==worker)]\n",
    "    \n",
    "    different_batch = data['Batch_Size'].unique()\n",
    "    different_batch = np.sort(different_batch)\n",
    "    \n",
    "    for i in range(len(different_batch)):\n",
    "        data_single = data[data['Batch_Size']==different_batch[i]]\n",
    "        plt.plot(np.array(data_single['Val_loss_time'])[0],np.array(data_single['Val_loss_value'])[0],label=str(different_batch[i]))\n",
    "        \n",
    "    plt.title(f\"Validation loss vs Time with {worker} workers for {mode} mode\")\n",
    "    plt.xlabel(\"Time\")\n",
    "    plt.ylabel(\"Validation loss\")\n",
    "    plt.legend(title='Batch Sizes')"
   ]
  },
  {
   "cell_type": "code",
   "execution_count": null,
   "metadata": {},
   "outputs": [],
   "source": [
    "plt.figure(figsize=(14,8)) \n",
    "plt.subplot(1,2,1)\n",
    "plot_mode_val_vs_time_worker(df,\"asynchronous\",128)\n",
    "plt.subplot(1,2,2)\n",
    "plot_mode_val_vs_time_worker(df,\"synchronous\",128)"
   ]
  },
  {
   "cell_type": "code",
   "execution_count": null,
   "metadata": {},
   "outputs": [],
   "source": [
    "plt.figure(figsize=(15,8)) \n",
    "plt.subplot(1,2,1)\n",
    "plot_mode_val_vs_time_batch(df,\"asynchronous\",1)\n",
    "plt.subplot(1,2,2)\n",
    "plot_mode_val_vs_time_batch(df,\"synchronous\",1)"
   ]
  },
  {
   "cell_type": "code",
   "execution_count": null,
   "metadata": {},
   "outputs": [],
   "source": [
    "plt.figure(figsize=(15,8))\n",
    "plt.subplot(1,2,1)\n",
    "plot_mode_val_vs_time_batch(df,\"asynchronous\",2)\n",
    "plt.subplot(1,2,2)\n",
    "plot_mode_val_vs_time_batch(df,\"synchronous\",2)"
   ]
  },
  {
   "cell_type": "code",
   "execution_count": null,
   "metadata": {},
   "outputs": [],
   "source": [
    "plt.figure(figsize=(15,8)) \n",
    "plt.subplot(1,2,1)\n",
    "plot_mode_val_vs_time_batch(df,\"asynchronous\",5)\n",
    "plt.subplot(1,2,2)\n",
    "plot_mode_val_vs_time_batch(df,\"synchronous\",5)"
   ]
  },
  {
   "cell_type": "code",
   "execution_count": null,
   "metadata": {},
   "outputs": [],
   "source": [
    "plt.figure(figsize=(15,8)) \n",
    "plt.subplot(1,2,1)\n",
    "plot_mode_val_vs_time_batch(df,\"asynchronous\",10)\n",
    "plt.subplot(1,2,2)\n",
    "plot_mode_val_vs_time_batch(df,\"synchronous\",10)"
   ]
  },
  {
   "cell_type": "code",
   "execution_count": null,
   "metadata": {},
   "outputs": [],
   "source": [
    "plt.figure(figsize=(15,8)) \n",
    "plt.subplot(1,2,1)\n",
    "plot_mode_val_vs_time_batch(df,\"asynchronous\",20)\n",
    "plt.subplot(1,2,2)\n",
    "plot_mode_val_vs_time_batch(df,\"synchronous\",20)"
   ]
  }
 ],
 "metadata": {
  "kernelspec": {
   "display_name": "Python 3",
   "language": "python",
   "name": "python3"
  },
  "language_info": {
   "codemirror_mode": {
    "name": "ipython",
    "version": 3
   },
   "file_extension": ".py",
   "mimetype": "text/x-python",
   "name": "python",
   "nbconvert_exporter": "python",
   "pygments_lexer": "ipython3",
   "version": "3.6.7"
  }
 },
 "nbformat": 4,
 "nbformat_minor": 2
}
